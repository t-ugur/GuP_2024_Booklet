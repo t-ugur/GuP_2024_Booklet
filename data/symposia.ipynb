{
 "cells": [
  {
   "cell_type": "code",
   "execution_count": 1,
   "metadata": {},
   "outputs": [],
   "source": [
    "import json\n",
    "\n",
    "f = open(\"./PuG_2024_data.json\")\n",
    "pug_data = json.load(f)\n",
    "f.close()\n",
    "session = pug_data[\"Donnerstag\"][\"symposia\"][\"Symposia Session 1-1\"]"
   ]
  },
  {
   "cell_type": "code",
   "execution_count": 2,
   "metadata": {},
   "outputs": [
    {
     "data": {
      "text/plain": [
       "{'Index': 'S01',\n",
       " 'Talk': 'Exploring new approaches to increase utility of psychophysiological markers for clinical psychology',\n",
       " 'Title': 'S01 - Exploring new approaches to increase utility of psychophysiological markers for clinical psychology',\n",
       " 'DatePlace': 'Donnerstag 10:30 - 12:00 | Ort TODO',\n",
       " 'Chair': 'Session chair(s): Julia Klawohn, Hannes Per Carsten',\n",
       " 'Mantel': 'Autor Julia Klawohn, Co-Autor: Hannes Per Carsten,\\n\\nIn recent years, biological markers have increasingly been incorporated into clinical research, showing they can further our knowledge of pathophysiological mechanisms underlying mental health problems and help identify new vantage points for interventions. Yet, despite these advances, limitations regarding robustness and effect sizes of associations between biological processes and clinical phenotypes remain and hamper practical utility of existing findings. This symposium will cover several studies that all attempt to improve bridging this gap by applying innovative experimental approaches or interventions, combining measures or methods, exploring underlying dimensions, or incorporating individualized materials. Kai Härpfer will present a large study spanning clinical and subclinical individuals, highlighting the importance of familial risk and lifetime diagnoses for variations in error-monitoring ERPs. Rosa Grützmann will show effects of a novel cognitive training aimed at reducing overactive error-processing in obsessive-compulsive disorder. She further demonstrates that a combination of several ERP markers can help improve diagnostic classification of mental health issues, like problematic internet use. Hannes Per Carsten extends the modification approach showing that VR-induced checking behavior may increase error-processing. Mareike Bayer presents a study combining EEG and fMRI to investigate emotional face processing in autism spectrum conditions, with results highlighting the importance of individualized stimuli. Finally, Julia Klawohn will show results indicating that emotional reactivity, as captured with both ERP and cardiac measures, can contribute to predictions of individual psychotherapy success in obsessive-compulsive disorder. Together, these findings capture the complexity of links between psychophysiological markers and psychopathology and propose leverage points for translational research strategies.',\n",
       " 'Talks': {'0': {'Tag': 'Donnerstag',\n",
       "   'Session': 'Symposia Session 1-1',\n",
       "   'SessionStart': '10:30:00',\n",
       "   'SessionEnd': '12:00:00',\n",
       "   'TalkStart': '10:30:00',\n",
       "   'TalkEnd': '10:45:00',\n",
       "   'Talk': 'Exploring new approaches to increase utility of psychophysiological markers for clinical psychology',\n",
       "   'Speaker': 'Kai Härpfer',\n",
       "   'Chair': 'Julia Klawohn, Hannes Per Carsten',\n",
       "   'Inhalt': 'Autor Julia Klawohn, Co-Autor: Hannes Per Carsten,\\n\\nIn recent years, biological markers have increasingly been incorporated into clinical research, showing they can further our knowledge of pathophysiological mechanisms underlying mental health problems and help identify new vantage points for interventions. Yet, despite these advances, limitations regarding robustness and effect sizes of associations between biological processes and clinical phenotypes remain and hamper practical utility of existing findings. This symposium will cover several studies that all attempt to improve bridging this gap by applying innovative experimental approaches or interventions, combining measures or methods, exploring underlying dimensions, or incorporating individualized materials. Kai Härpfer will present a large study spanning clinical and subclinical individuals, highlighting the importance of familial risk and lifetime diagnoses for variations in error-monitoring ERPs. Rosa Grützmann will show effects of a novel cognitive training aimed at reducing overactive error-processing in obsessive-compulsive disorder. She further demonstrates that a combination of several ERP markers can help improve diagnostic classification of mental health issues, like problematic internet use. Hannes Per Carsten extends the modification approach showing that VR-induced checking behavior may increase error-processing. Mareike Bayer presents a study combining EEG and fMRI to investigate emotional face processing in autism spectrum conditions, with results highlighting the importance of individualized stimuli. Finally, Julia Klawohn will show results indicating that emotional reactivity, as captured with both ERP and cardiac measures, can contribute to predictions of individual psychotherapy success in obsessive-compulsive disorder. Together, these findings capture the complexity of links between psychophysiological markers and psychopathology and propose leverage points for translational research strategies.',\n",
       "   'Uni': 'University of Hamburg',\n",
       "   'Abstract': 'Thu-$$-Talk-$-$$$\\nEnhanced performance monitoring within the anxiety and obsessive-compulsive spectrum: A transdiagnostic and dimensional perspective\\n\\nKai Härpfer (1), Hannes Per Carsten (1), Franziska Magdalena Kausche (1), Anja Riesel (1)\\n\\n(1) University of Hamburg\\n\\nThis study investigated the relationship between anxiety and obsessive-compulsive disorders and neural markers of performance monitoring (error-related negativity, ERN, and correct-response negativity, CRN). Using a large sample of participants (n = 156), across four diagnostic groups including obsessive-compulsive disorder, social anxiety disorder, specific phobia, and a naturalistic control group, we examined the influence of disorder category, clinical status, family risk, and transdiagnostic symptom dimensions (anxious apprehension and anxious arousal). The research objectives and methodology were preregistered prior to data collection (https://osf.io/kxv5h) and the dataset as well as the analytic code have been deposited in an OSF repository (https://doi.org/10.17605/OSF.IO/7DCM3). Contrary to our initial expectations, we did not observe significant ERN or CRN differences among the diagnostic groups. However, when compared to a strictly defined healthy control group, individuals with specific phobia exhibited a larger ERN, a novel finding. In line with previous work, individuals with a lifetime clinical diagnosis of any internalizing disorder or with a family risk for internalizing psychopathology showed larger ERN and CRN amplitudes. After combining our data with a subclinical sample (n = 246), we identified gender as a moderator, with women exhibiting higher levels of anxious apprehension showing an elevated ERN and CRN. In conclusion, our study challenges the notion of a disorder-specific link to performance monitoring. Instead, our findings suggest that enhanced performance monitoring is associated with a higher propensity for anxious apprehension and acts as a broad risk marker for internalizing psychopathology, reflecting vulnerability beyond diagnostic borders within the anxiety- and obsessive-compulsive spectrum.'},\n",
       "  '1': {'Tag': 'Donnerstag',\n",
       "   'Session': 'Symposia Session 1-1',\n",
       "   'SessionStart': '10:30:00',\n",
       "   'SessionEnd': '12:00:00',\n",
       "   'TalkStart': '10:45:00',\n",
       "   'TalkEnd': '11:00:00',\n",
       "   'Talk': 'Exploring new approaches to increase utility of psychophysiological markers for clinical psychology',\n",
       "   'Speaker': 'Rosa Grützmann',\n",
       "   'Chair': 'Julia Klawohn, Hannes Per Carsten',\n",
       "   'Inhalt': 'Autor Julia Klawohn, Co-Autor: Hannes Per Carsten,\\n\\nIn recent years, biological markers have increasingly been incorporated into clinical research, showing they can further our knowledge of pathophysiological mechanisms underlying mental health problems and help identify new vantage points for interventions. Yet, despite these advances, limitations regarding robustness and effect sizes of associations between biological processes and clinical phenotypes remain and hamper practical utility of existing findings. This symposium will cover several studies that all attempt to improve bridging this gap by applying innovative experimental approaches or interventions, combining measures or methods, exploring underlying dimensions, or incorporating individualized materials. Kai Härpfer will present a large study spanning clinical and subclinical individuals, highlighting the importance of familial risk and lifetime diagnoses for variations in error-monitoring ERPs. Rosa Grützmann will show effects of a novel cognitive training aimed at reducing overactive error-processing in obsessive-compulsive disorder. She further demonstrates that a combination of several ERP markers can help improve diagnostic classification of mental health issues, like problematic internet use. Hannes Per Carsten extends the modification approach showing that VR-induced checking behavior may increase error-processing. Mareike Bayer presents a study combining EEG and fMRI to investigate emotional face processing in autism spectrum conditions, with results highlighting the importance of individualized stimuli. Finally, Julia Klawohn will show results indicating that emotional reactivity, as captured with both ERP and cardiac measures, can contribute to predictions of individual psychotherapy success in obsessive-compulsive disorder. Together, these findings capture the complexity of links between psychophysiological markers and psychopathology and propose leverage points for translational research strategies.',\n",
       "   'Uni': 'MSB Medical School Berlin,',\n",
       "   'Abstract': 'Thu-$$-Talk-$-$$$\\nUtility of psychophysiological markers of executive functions: Examples from clinical application in obsessive-compulsive disorder and problematic internet use\\n\\nRosa Grützmann (1), Maxi Ganser (1), Cansu Turhan (1), Norbert Kathmann (2), Stephan Heinzel (3)\\n\\n(1) MSB Medical School Berlin, (2) Humboldt-Universität zu Berlin, (3) Technische Universität Dortmund\\n\\nPsychophysiological markers of executive functions and performance monitoring have been identified as cross-sectional correlates of psychopathological symptom dimensions across the internalizing-externalizing spectrum. Here, we present two studies focusing on different applications of these psychophysiological markers. In study 1, an executive control training targeting the error-related negativity (ERN) was applied in patients with obsessive-compulsive disorder (OCD). Previous studies have shown that the robust increase of the ERN in OCD might reflect a risk marker and that it persists after cognitive-behavioral therapy despite successful symptom reduction, thus possibly demanding for specifically-tailored interventions. Results of study 1 showed a slight reduction of the ERN and OCD symptoms after the three-week executive control training thus strengthening its potential as a target for augmentative interventions. Study 2 focused on the potential contributions of psychophysiological markers for the diagnostic classification of problematic internet use (PIU). As PIU exhibits features of behavioral addiction but is also associated with depressive and anxiety symptoms its placement across the internalizing-externalizing spectrum is currently being discussed. Thus, psychophysiological markers of performance monitoring (ERN), reward processing (reward-related positivity, rewP), and inhibition (N2, P300) were assessed and results were compared to established patterns in addiction vs. internalizing disorders. Across all three tasks the results of study 2 rather favor the classification of PIU as an internalizing disorder. Taken together, the two studies illustrate the potential for application of the mechanistic insights derived from cross-sectional psychophysiological studies in additional areas of clinical research such as the development of novel interventions and diagnostic classification.'},\n",
       "  '2': {'Tag': 'Donnerstag',\n",
       "   'Session': 'Symposia Session 1-1',\n",
       "   'SessionStart': '10:30:00',\n",
       "   'SessionEnd': '12:00:00',\n",
       "   'TalkStart': '11:00:00',\n",
       "   'TalkEnd': '11:15:00',\n",
       "   'Talk': 'Exploring new approaches to increase utility of psychophysiological markers for clinical psychology',\n",
       "   'Speaker': 'Hannes Per Carsten',\n",
       "   'Chair': 'Julia Klawohn, Hannes Per Carsten',\n",
       "   'Inhalt': 'Autor Julia Klawohn, Co-Autor: Hannes Per Carsten,\\n\\nIn recent years, biological markers have increasingly been incorporated into clinical research, showing they can further our knowledge of pathophysiological mechanisms underlying mental health problems and help identify new vantage points for interventions. Yet, despite these advances, limitations regarding robustness and effect sizes of associations between biological processes and clinical phenotypes remain and ha+L8+J10',\n",
       "   'Uni': 'University of Hamburg',\n",
       "   'Abstract': 'Thu-$$-Talk-$-$$$\\nRepetitive Checking in Virtual-Reality Alters the Error-Related Negativity: Evidence from a Randomized Controlled Trial\\n\\nHannes Per Carsten (1), Kai Härpfer (1), Josefine Brauer (1), Lara Bücker (2 ), Lena Jelinek (2), Aleksandra Lecei (1), Franziska Miegel, Miriam Pawloski (1), Anja Riesel (1)\\n\\n(1) University of Hamburg, (2) University Medical Center Hamburg-Eppendorf\\n\\nIncreased error-related negativity (ERN) – a neural correlate of error monitoring – has been reported in patients with obsessive-compulsive disorder (OCD) and patients with other internalizing disorders e.g., anxiety disorders. The majority of patients with OCD engage in repetitive checking, which might be a phenotypic expression of increased error monitoring. To test a causal link between checking behavior and the ERN, a preregistered, randomized-controlled design was employed. First, the baseline (T0) ERN of N = 90 university students was measured via electroencephalography during an Eriksen Flanker Task. Then, participants were randomly assigned to one of three groups: While an experimental group (n = 30) was instructed to repetitively check kitchen devices in a virtual reality (VR) environment, an active control group (n = 30) waited in the same VR environment, and a passive control group (n = 30) waited without a VR headset. Subsequently (T1), the ERN was assessed again. The checking induction resulted in an increased ERN after symptom induction (T1) in the experimental group compared with the active control group. This effect was specific to the ERN, as no differences in the correct-related negativity (CRN) emerged. Repetitive Checking in a virtual environment seems to impact the ERN, in line with previous cross-sectional studies. This finding implies that checking compulsions, which are highly prevalent among patients with OCD, might be a phenotypic expression of an increased ERN. Future studies could extend these findings to clinical samples with OCD.'},\n",
       "  '3': {'Tag': 'Donnerstag',\n",
       "   'Session': 'Symposia Session 1-1',\n",
       "   'SessionStart': '10:30:00',\n",
       "   'SessionEnd': '12:00:00',\n",
       "   'TalkStart': '11:15:00',\n",
       "   'TalkEnd': '11:30:00',\n",
       "   'Talk': 'Exploring new approaches to increase utility of psychophysiological markers for clinical psychology',\n",
       "   'Speaker': 'Mareike Bayer',\n",
       "   'Chair': 'Julia Klawohn, Hannes Per Carsten',\n",
       "   'Inhalt': 'Autor Julia Klawohn, Co-Autor: Hannes Per Carsten,\\n\\nIn recent years, biological markers have increasingly been incorporated into clinical research, showing they can further our knowledge of pathophysiological mechanisms underlying mental health problems and help identify new vantage points for interventions. Yet, despite these advances, limitations regarding robustness and effect sizes of associations between biological processes and clinical phenotypes remain and hamper practical utility of existing findings. This symposium will cover several studies that all attempt to improve bridging this gap by applying innovative experimental approaches or interventions, combining measures or methods, exploring underlying dimensions, or incorporating individualized materials. Kai Härpfer will present a large study spanning clinical and subclinical individuals, highlighting the importance of familial risk and lifetime diagnoses for variations in error-monitoring ERPs. Rosa Grützmann will show effects of a novel cognitive training aimed at reducing overactive error-processing in obsessive-compulsive disorder. She further demonstrates that a combination of several ERP markers can help improve diagnostic classification of mental health issues, like problematic internet use. Hannes Per Carsten extends the modification approach showing that VR-induced checking behavior may increase error-processing. Mareike Bayer presents a study combining EEG and fMRI to investigate emotional face processing in autism spectrum conditions, with results highlighting the importance of individualized stimuli. Finally, Julia Klawohn will show results indicating that emotional reactivity, as captured with both ERP and cardiac measures, can contribute to predictions of individual psychotherapy success in obsessive-compulsive disorder. Together, these findings capture the complexity of links between psychophysiological markers and psychopathology and propose leverage points for translational research strategies.',\n",
       "   'Uni': 'Humboldt-Universität zu Berlin',\n",
       "   'Abstract': 'Thu-$$-Talk-$-$$$\\nTemporal and spatial characteristics of emotional face processing in Autism Spectrum Conditions\\n\\nMareike Bayer (1), Katharina Bögl (1), Isabel Dziobek (1)\\n\\n(1) Humboldt-Universität zu Berlin\\n\\nAutism Spectrum Conditions (ASC) are characterized difficulties in social interactions, which are accompanied by alterations in (emotional) face processing. In this simultaneous EEG-fMRI study, we investigate the role of personal relevance in emotional face processing in ASC. Participants with ASC and matched controls (N=46) performed an emotion recognition task including a personally relevant person and a matched stranger, displaying fearful, happy, and neutral facial expressions. Both groups showed significantly increased hemodynamic activity for relevant vs. stranger’s faces in the core and extended face processing network, including fusiform gyrus, medial PFC and precuneus. Crucially, emotion effects in ASC were limited to relevant faces, while the control group showed emotion effects for both relevant and unknown faces. In EEG data, increased P1 amplitudes to relevant vs. stranger’s faces were observed only for the non-autistic group, while later effects (P3) were present for both groups. In addition, cross-modal representational similarity analyses (RSA) analyses revealed that significant shared representations between EEG and fMRI data at sensory stages were again limited to the control group. Our results indicate that face processing in ASC seems to be characterised by a higher specificity, rather than a general dysfunction. Furthermore, EEG data revealed differences in the temporal profile of face processing, where modulations at sensory stages were limited to the control group. Our results speak to the importance of using individualized stimuli and multi-modal analyses in order to allow for the investigation of real-life social information processing in clinical populations.'},\n",
       "  '4': {'Tag': 'Donnerstag',\n",
       "   'Session': 'Symposia Session 1-1',\n",
       "   'SessionStart': '10:30:00',\n",
       "   'SessionEnd': '12:00:00',\n",
       "   'TalkStart': '11:30:00',\n",
       "   'TalkEnd': '11:45:00',\n",
       "   'Talk': 'Exploring new approaches to increase utility of psychophysiological markers for clinical psychology',\n",
       "   'Speaker': 'Julia Klawohn ',\n",
       "   'Chair': 'Julia Klawohn, Hannes Per Carsten',\n",
       "   'Inhalt': 'Autor Julia Klawohn, Co-Autor: Hannes Per Carsten,\\n\\nIn recent years, biological markers have increasingly been incorporated into clinical research, showing they can further our knowledge of pathophysiological mechanisms underlying mental health problems and help identify new vantage points for interventions. Yet, despite these advances, limitations regarding robustness and effect sizes of associations between biological processes and clinical phenotypes remain and hamper practical utility of existing findings. This symposium will cover several studies that all attempt to improve bridging this gap by applying innovative experimental approaches or interventions, combining measures or methods, exploring underlying dimensions, or incorporating individualized materials. Kai Härpfer will present a large study spanning clinical and subclinical individuals, highlighting the importance of familial risk and lifetime diagnoses for variations in error-monitoring ERPs. Rosa Grützmann will show effects of a novel cognitive training aimed at reducing overactive error-processing in obsessive-compulsive disorder. She further demonstrates that a combination of several ERP markers can help improve diagnostic classification of mental health issues, like problematic internet use. Hannes Per Carsten extends the modification approach showing that VR-induced checking behavior may increase error-processing. Mareike Bayer presents a study combining EEG and fMRI to investigate emotional face processing in autism spectrum conditions, with results highlighting the importance of individualized stimuli. Finally, Julia Klawohn will show results indicating that emotional reactivity, as captured with both ERP and cardiac measures, can contribute to predictions of individual psychotherapy success in obsessive-compulsive disorder. Together, these findings capture the complexity of links between psychophysiological markers and psychopathology and propose leverage points for translational research strategies.',\n",
       "   'Uni': 'MSB Medical School Berlin',\n",
       "   'Abstract': 'Thu-$$-Talk-$-$$$ \\nEmploying psychophysiological markers to predict treatment effects in obsessive-compulsive disorder\\n\\nJulia Klawohn (1), Anja Riesel (2), Rosa Grützmann (1), Franziska Jüre (3), Benedikt Reuter (1), Björn Elsner (3), Norbert Kathmann (3)\\n\\n(1) MSB Medical School Berlin, (2) Universität Hamburg, (3) Humboldt- Universität zu Berlin\\n\\nObsessive-Compulsive Disorder (OCD) is a severe mental disorder that tends to persist without treatment. Cognitive-behavioral therapy (CBT) has been established as an effective treatment for OCD, yet a significant number of patients do not sufficiently respond to intervention. In line with recent advances in individualized medicine approaches, neurocognitive biomarkers could help identify individuals at risk for non-response and provide insight into underlying mechanisms. Here, we examined whether the late positive potential (LPP), a neural correlate of emotional reactivity, could serve as a prospective predictor of therapy response in patients with OCD (n = 100). Results indicated gender-moderated prediction of therapy response by LPP to unpleasant and pleasant emotional pictures. That is, female patients with relatively higher reactivity to pleasant and unpleasant stimuli were more likely to benefit from CBT, possibly through lower emotional avoidance. Moreover, findings from the same sample suggest that higher resting heart-rate-variability (HRV) also is a predictor of greater symptom reduction through CBT, particularly in female patients with OCD. As HRV has been discussed as a marker of flexible implicit emotion regulation, these findings align to indicate that both biological measures of emotional responsivity can serve as clinical prognostic markers in OCD, with blunting in responsivity being predictive of higher risk for non-response to CBT. Implications of these findings with respect to the clinical utility of such markers and further directions will be discussed.'}}}"
      ]
     },
     "execution_count": 2,
     "metadata": {},
     "output_type": "execute_result"
    }
   ],
   "source": [
    "session"
   ]
  },
  {
   "cell_type": "code",
   "execution_count": 3,
   "metadata": {},
   "outputs": [],
   "source": [
    "talks = \"\"\n",
    "for _, t in session[\"Talks\"].items():\n",
    "    talks += r\"\"\"\n",
    "    \\item [%(speaker)s (TODO: refactor name)] %(title)s \\textcolor{mygray}{ | %(time)s}    \n",
    "    \"\"\" % {\n",
    "        \"speaker\": t[\"Speaker\"],\n",
    "        \"title\": \"TODO: add title\",\n",
    "        \"time\": t[\"TalkStart\"][:-3]\n",
    "    }\n",
    "\n",
    "tex = r\"\"\"\n",
    "\\begin{symposium}\n",
    "{%(title)s}\n",
    "{%(chairs)s}\n",
    "{%(dateplace)s}\n",
    "{%(uni)s}\n",
    "%(mantel)s\n",
    "\\begin{description}    \n",
    "%(description)s\n",
    "\\end{description} \n",
    "\\end{symposium}\n",
    "\"\"\" % {\n",
    "    \"title\": session[\"Title\"], \n",
    "    \"chairs\": session[\"Chair\"], \n",
    "    \"dateplace\": session[\"DatePlace\"], \n",
    "    \"uni\": \"Welche Uni TODO\", \n",
    "    \"mantel\": session[\"Mantel\"], \n",
    "    \"description\": talks\n",
    "    }\n"
   ]
  },
  {
   "cell_type": "code",
   "execution_count": 5,
   "metadata": {},
   "outputs": [],
   "source": [
    "f = open(\"../booklet/tex/days/thursday/symposia/s01.tex\", \"w\")\n",
    "f.write(tex)\n",
    "f.close()"
   ]
  }
 ],
 "metadata": {
  "kernelspec": {
   "display_name": "pug",
   "language": "python",
   "name": "python3"
  },
  "language_info": {
   "codemirror_mode": {
    "name": "ipython",
    "version": 3
   },
   "file_extension": ".py",
   "mimetype": "text/x-python",
   "name": "python",
   "nbconvert_exporter": "python",
   "pygments_lexer": "ipython3",
   "version": "3.12.3"
  }
 },
 "nbformat": 4,
 "nbformat_minor": 2
}
