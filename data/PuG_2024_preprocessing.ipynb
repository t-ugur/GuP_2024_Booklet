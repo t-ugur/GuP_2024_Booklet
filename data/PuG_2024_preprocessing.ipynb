{
 "cells": [
  {
   "cell_type": "code",
   "execution_count": 49,
   "metadata": {},
   "outputs": [],
   "source": [
    "import pandas as pd\n",
    "import json"
   ]
  },
  {
   "cell_type": "markdown",
   "metadata": {},
   "source": [
    "### Initiate dict for PuG 2024 program"
   ]
  },
  {
   "cell_type": "code",
   "execution_count": 50,
   "metadata": {},
   "outputs": [],
   "source": [
    "pug24_dict = {\n",
    "    \"Donnerstag\": {\"symposia\": {}, \"poster\": {}, \"keynote\": {}}, \n",
    "    \"Freitag\": {\"symposia\": {}, \"poster\": {}, \"keynote\": {}}, \n",
    "    \"Samstag\": {\"symposia\": {}, \"keynote\": {}}\n",
    "    }"
   ]
  },
  {
   "cell_type": "markdown",
   "metadata": {},
   "source": [
    "### Read PUG_Prizes.xlsx sheet"
   ]
  },
  {
   "cell_type": "code",
   "execution_count": 51,
   "metadata": {},
   "outputs": [
    {
     "name": "stdout",
     "output_type": "stream",
     "text": [
      "<class 'pandas.core.frame.DataFrame'>\n",
      "RangeIndex: 608 entries, 0 to 607\n",
      "Data columns (total 18 columns):\n",
      " #   Column                   Non-Null Count  Dtype \n",
      "---  ------                   --------------  ----- \n",
      " 0   Id                       608 non-null    object\n",
      " 1   Poster Session           608 non-null    object\n",
      " 2   Type                     608 non-null    object\n",
      " 3   Topic                    608 non-null    object\n",
      " 4   Title                    608 non-null    object\n",
      " 5   Mantelabstract           608 non-null    object\n",
      " 6   Abstract                 608 non-null    object\n",
      " 7   Submitter first name     608 non-null    object\n",
      " 8   Submitter last name      608 non-null    object\n",
      " 9   Submitter (affiliation)  608 non-null    object\n",
      " 10  Submitter (email)        608 non-null    object\n",
      " 11  Gender                   608 non-null    object\n",
      " 12  Young scientist          608 non-null    object\n",
      " 13  IGOR Prize               608 non-null    object\n",
      " 14  Posterblitz              608 non-null    object\n",
      " 15  Blindanstract            608 non-null    object\n",
      " 16  Poster prize             608 non-null    object\n",
      " 17  Notes Sebastian          608 non-null    object\n",
      "dtypes: object(18)\n",
      "memory usage: 85.6+ KB\n"
     ]
    }
   ],
   "source": [
    "# Read PuG sheet and print information\n",
    "pug_df = pd.read_excel(\"./excel/PUG_Prizes_SG.xlsx\").astype(str)\n",
    "pug_df.info()"
   ]
  },
  {
   "cell_type": "markdown",
   "metadata": {},
   "source": [
    "### Put Posters into program dict"
   ]
  },
  {
   "cell_type": "code",
   "execution_count": 52,
   "metadata": {},
   "outputs": [],
   "source": [
    "thu_poster_df = pug_df.loc[pug_df[\"Poster Session\"] == \"1\"]\n",
    "fri_poster_df = pug_df.loc[pug_df[\"Poster Session\"] == \"2\"]\n",
    "\n",
    "thu_poster_df.reset_index(drop=True, inplace=True)\n",
    "fri_poster_df.reset_index(drop=True, inplace=True)\n",
    "\n",
    "thu_poster_topic = thu_poster_df[\"Topic\"].unique()\n",
    "fri_poster_topic = fri_poster_df[\"Topic\"].unique()\n",
    "\n",
    "pug24_dict[\"Donnerstag\"][\"poster\"][\"topics\"] = {}\n",
    "pug24_dict[\"Freitag\"][\"poster\"][\"topics\"] = {}\n",
    "\n",
    "pug24_dict[\"Donnerstag\"][\"poster\"][\"topics\"] = {topic: {} for topic in thu_poster_topic}\n",
    "pug24_dict[\"Freitag\"][\"poster\"][\"topics\"] = {topic: {} for topic in fri_poster_topic}\n",
    "\n",
    "for p_topic in thu_poster_topic: \n",
    "    for p_index, p_row in thu_poster_df.loc[thu_poster_df[\"Topic\"] == p_topic].iterrows():\n",
    "        pug24_dict[\"Donnerstag\"][\"poster\"][\"topics\"][p_topic][p_index] = {}\n",
    "        p_id = p_row[\"Id\"] if int(p_row[\"Id\"]) > 99 else \"0\" + p_row[\"Id\"] if int(p_row[\"Id\"]) > 9 else \"00\" + p_row[\"Id\"]\n",
    "        pug24_dict[\"Donnerstag\"][\"poster\"][\"topics\"][p_topic][p_index][\"Id\"] = p_id\n",
    "        pug24_dict[\"Donnerstag\"][\"poster\"][\"topics\"][p_topic][p_index][\"Title\"] = p_row[\"Title\"]\n",
    "        pug24_dict[\"Donnerstag\"][\"poster\"][\"topics\"][p_topic][p_index][\"Submitter_fName\"] = p_row[\"Submitter first name\"]\n",
    "        pug24_dict[\"Donnerstag\"][\"poster\"][\"topics\"][p_topic][p_index][\"Submitter_lName\"] = p_row[\"Submitter last name\"]\n",
    "        pug24_dict[\"Donnerstag\"][\"poster\"][\"topics\"][p_topic][p_index][\"Submitter_Initials\"] = p_row[\"Submitter first name\"][0] + \". \" + p_row[\"Submitter last name\"]\n",
    "        pug24_dict[\"Donnerstag\"][\"poster\"][\"topics\"][p_topic][p_index][\"Uni\"] = p_row[\"Submitter (affiliation)\"]\n",
    "\n",
    "for p_topic in fri_poster_topic: \n",
    "    for p_index, p_row in fri_poster_df.loc[fri_poster_df[\"Topic\"] == p_topic].iterrows():\n",
    "        pug24_dict[\"Freitag\"][\"poster\"][\"topics\"][p_topic][p_index] = {}\n",
    "        p_id = p_row[\"Id\"] if int(p_row[\"Id\"]) > 99 else \"0\" + p_row[\"Id\"] if int(p_row[\"Id\"]) > 9 else \"00\" + p_row[\"Id\"]\n",
    "        pug24_dict[\"Freitag\"][\"poster\"][\"topics\"][p_topic][p_index][\"Id\"] = p_id\n",
    "        pug24_dict[\"Freitag\"][\"poster\"][\"topics\"][p_topic][p_index][\"Title\"] = p_row[\"Title\"]\n",
    "        pug24_dict[\"Freitag\"][\"poster\"][\"topics\"][p_topic][p_index][\"Submitter_fName\"] = p_row[\"Submitter first name\"]\n",
    "        pug24_dict[\"Freitag\"][\"poster\"][\"topics\"][p_topic][p_index][\"Submitter_lName\"] = p_row[\"Submitter last name\"]\n",
    "        pug24_dict[\"Freitag\"][\"poster\"][\"topics\"][p_topic][p_index][\"Submitter_Initials\"] = p_row[\"Submitter first name\"][0] + \". \" + p_row[\"Submitter last name\"]\n",
    "        pug24_dict[\"Freitag\"][\"poster\"][\"topics\"][p_topic][p_index][\"Uni\"] = p_row[\"Submitter (affiliation)\"]"
   ]
  },
  {
   "cell_type": "markdown",
   "metadata": {},
   "source": [
    "### Read PUG_2024_Programm_Talks.xlsx sheet"
   ]
  },
  {
   "cell_type": "code",
   "execution_count": 53,
   "metadata": {},
   "outputs": [
    {
     "name": "stdout",
     "output_type": "stream",
     "text": [
      "<class 'pandas.core.frame.DataFrame'>\n",
      "RangeIndex: 195 entries, 0 to 194\n",
      "Data columns (total 13 columns):\n",
      " #   Column        Non-Null Count  Dtype \n",
      "---  ------        --------------  ----- \n",
      " 0   Tag           195 non-null    object\n",
      " 1   Session       195 non-null    object\n",
      " 2   SessionStart  195 non-null    object\n",
      " 3   SessionEnd    195 non-null    object\n",
      " 4   TalkStart     195 non-null    object\n",
      " 5   TalkEnd       195 non-null    object\n",
      " 6   Room          195 non-null    object\n",
      " 7   Talk          195 non-null    object\n",
      " 8   Speaker       195 non-null    object\n",
      " 9   Chair         195 non-null    object\n",
      " 10  Inhalt        195 non-null    object\n",
      " 11  Uni           195 non-null    object\n",
      " 12  Abstract      195 non-null    object\n",
      "dtypes: object(13)\n",
      "memory usage: 19.9+ KB\n"
     ]
    },
    {
     "data": {
      "text/plain": [
       "Donnerstag    86\n",
       "Freitag       78\n",
       "Samstag       25\n",
       "nan            3\n",
       "Mittwoch       3\n",
       "Name: Tag, dtype: int64"
      ]
     },
     "execution_count": 53,
     "metadata": {},
     "output_type": "execute_result"
    }
   ],
   "source": [
    "# Read program sheet and print information\n",
    "program_df = pd.read_excel(\"./excel/PUG_2024_Programm_TalksRooms_1905.xlsx\").astype(str)\n",
    "program_df.info()\n",
    "program_df[\"Tag\"].value_counts()"
   ]
  },
  {
   "cell_type": "markdown",
   "metadata": {},
   "source": [
    "### Put Keynotes into program dict"
   ]
  },
  {
   "cell_type": "code",
   "execution_count": 54,
   "metadata": {},
   "outputs": [],
   "source": [
    "keynote = program_df.loc[program_df[\"Session\"].str.startswith(\"Keyn\")]\n",
    "\n",
    "for _, k_row in keynote.iterrows():\n",
    "    pug24_dict[k_row[\"Tag\"]][\"keynote\"][\"Session\"] = k_row[\"Session\"]\n",
    "    pug24_dict[k_row[\"Tag\"]][\"keynote\"][\"SessionStart\"] = k_row[\"SessionStart\"]\n",
    "    pug24_dict[k_row[\"Tag\"]][\"keynote\"][\"SessionEnd\"] = k_row[\"SessionEnd\"]"
   ]
  },
  {
   "cell_type": "markdown",
   "metadata": {},
   "source": [
    "### Put Posters into program dict"
   ]
  },
  {
   "cell_type": "code",
   "execution_count": 55,
   "metadata": {},
   "outputs": [],
   "source": [
    "poster = program_df.loc[program_df[\"Session\"].str.startswith(\"Post\")]\n",
    "\n",
    "for _, p_row in poster.iterrows():\n",
    "    pug24_dict[p_row[\"Tag\"]][\"poster\"][\"Session\"] = p_row[\"Session\"]\n",
    "    pug24_dict[p_row[\"Tag\"]][\"poster\"][\"SessionStart\"] = p_row[\"SessionStart\"]\n",
    "    pug24_dict[p_row[\"Tag\"]][\"poster\"][\"SessionEnd\"] = p_row[\"SessionEnd\"]"
   ]
  },
  {
   "cell_type": "markdown",
   "metadata": {},
   "source": [
    "### Put Symposia into program dict"
   ]
  },
  {
   "cell_type": "code",
   "execution_count": 56,
   "metadata": {},
   "outputs": [
    {
     "name": "stdout",
     "output_type": "stream",
     "text": [
      "No brake found in mantel of symposium S11 - Posterblitz\n",
      "No brake found in mantel of symposium S12 - Posterblitz\n",
      "No brake found in mantel of symposium S12 - Posterblitz\n",
      "No brake found in mantel of symposium S12 - Posterblitz\n",
      "No brake found in mantel of symposium S12 - Posterblitz\n",
      "No brake found in mantel of symposium S12 - Posterblitz\n",
      "No brake found in mantel of symposium S12 - Posterblitz\n",
      "No brake found in mantel of symposium S12 - Posterblitz\n",
      "No brake found in mantel of symposium S12 - Posterblitz\n"
     ]
    }
   ],
   "source": [
    "# Read Symposia from Excel sheet and reset index\n",
    "symposia = program_df.loc[program_df[\"Session\"].str.startswith(\"Symp\")]\n",
    "symposia.reset_index(drop=True, inplace=True)\n",
    "symposia_session_count = 1\n",
    "\n",
    "# Iterate over symposia\n",
    "for s_index, s_row in symposia.iterrows():\n",
    "    s_group_index = \"session\" + s_row[\"Session\"][-3:-2]\n",
    "    s_id = \"session\" + s_row[\"Session\"][-3:]\n",
    "    s_talk = s_row[\"Talk\"]\n",
    "    s_title_index = \"S\" + (str(symposia_session_count) if symposia_session_count > 9 else \"0\" + str(symposia_session_count))\n",
    "    s_title = s_title_index + \" - \" + s_talk\n",
    "    s_date = s_row[\"Tag\"] + \" \" + s_row[\"SessionStart\"][:-3] + \" - \" + s_row[\"SessionEnd\"][:-3]\n",
    "    s_room = s_row[\"Room\"]\n",
    "    s_date_place = s_date + \" | \" + s_room\n",
    "    s_chairs = {\"author\": s_row[\"Chair\"], \"uni\": s_row[\"Uni\"]}\n",
    "    s_mantel = s_row[\"Inhalt\"].replace(\"&\", r\"\\&\").replace(\"ε\", r\"$\\epsilon$\")\n",
    "    s_mantel_brake = s_mantel.find(\"\\n\\n\")\n",
    "    if s_mantel_brake != -1:\n",
    "        s_mantel = s_mantel[s_mantel_brake+2:]\n",
    "    else:\n",
    "        print(\"No brake found in mantel of symposium\", s_title)\n",
    "\n",
    "    # separate title and body from abstract text \n",
    "    abstract_brake = s_row[\"Abstract\"].find(\"\\n\")+1\n",
    "    s_row[\"Abstract\"] = s_row[\"Abstract\"][abstract_brake:]\n",
    "    abstract_brake = s_row[\"Abstract\"].find(\"\\n\\n\")\n",
    "    abstract_title = s_row[\"Abstract\"][:abstract_brake]\n",
    "    abstract_body = s_row[\"Abstract\"][abstract_brake+2:]\n",
    "    abstract_brake = abstract_body.rfind(\"\\n\\n\")\n",
    "    abstract_body = abstract_body[abstract_brake+2:]\n",
    "    s_row[\"Abstract\"] = {\"title\": abstract_title, \"body\": abstract_body}\n",
    "\n",
    "    # Add new symposia session if not present\n",
    "    if s_group_index not in pug24_dict[s_row[\"Tag\"]][\"symposia\"].keys():\n",
    "        pug24_dict[s_row[\"Tag\"]][\"symposia\"][s_group_index] = {}\n",
    "    if s_id not in pug24_dict[s_row[\"Tag\"]][\"symposia\"][s_group_index].keys():\n",
    "        pug24_dict[s_row[\"Tag\"]][\"symposia\"][s_group_index][s_id] = {}\n",
    "\n",
    "    # Add Parameters to symposia session dict, if not present\n",
    "    if \"Index\" not in pug24_dict[s_row[\"Tag\"]][\"symposia\"][s_group_index][s_id]:\n",
    "        symposia_session_count += 1\n",
    "        pug24_dict[s_row[\"Tag\"]][\"symposia\"][s_group_index][s_id][\"Index\"] = s_title_index\n",
    "        pug24_dict[s_row[\"Tag\"]][\"symposia\"][s_group_index][s_id][\"Talk\"] = s_talk\n",
    "        pug24_dict[s_row[\"Tag\"]][\"symposia\"][s_group_index][s_id][\"Title\"] = s_title\n",
    "        pug24_dict[s_row[\"Tag\"]][\"symposia\"][s_group_index][s_id][\"Mantel\"] = s_mantel\n",
    "        pug24_dict[s_row[\"Tag\"]][\"symposia\"][s_group_index][s_id][\"Date\"] = s_date\n",
    "        pug24_dict[s_row[\"Tag\"]][\"symposia\"][s_group_index][s_id][\"Room\"] = s_room\n",
    "        pug24_dict[s_row[\"Tag\"]][\"symposia\"][s_group_index][s_id][\"DatePlace\"] = s_date_place\n",
    "        pug24_dict[s_row[\"Tag\"]][\"symposia\"][s_group_index][s_id][\"Chair\"] = s_chairs\n",
    "        pug24_dict[s_row[\"Tag\"]][\"symposia\"][s_group_index][s_id][\"Talks\"] = {}\n",
    "\n",
    "    # Add symposium to session\n",
    "    pug24_dict[s_row[\"Tag\"]][\"symposia\"][s_group_index][s_id][\"Talks\"][s_index] = s_row.to_dict()"
   ]
  },
  {
   "cell_type": "markdown",
   "metadata": {},
   "source": [
    "### Save PuG 2024 dict into a JSON file"
   ]
  },
  {
   "cell_type": "code",
   "execution_count": 57,
   "metadata": {},
   "outputs": [],
   "source": [
    "# Save the dictionary to a JSON file\n",
    "with open(\"PuG_2024_data.json\", \"w\") as file:\n",
    "    json.dump(pug24_dict, file)"
   ]
  },
  {
   "cell_type": "markdown",
   "metadata": {},
   "source": [
    "### Print symposia to tex files"
   ]
  },
  {
   "cell_type": "code",
   "execution_count": 58,
   "metadata": {},
   "outputs": [],
   "source": [
    "for day_key, day_value in pug24_dict.items():\n",
    "    for session_group_key, session_group in day_value[\"symposia\"].items():\n",
    "        s_id_list = []\n",
    "        for _, session in session_group.items():\n",
    "\n",
    "            # cerates a string of all talk items \n",
    "            talks = \"\"\n",
    "            for _, t in session[\"Talks\"].items():\n",
    "                if t[\"Speaker\"][-1] == \" \": \n",
    "                    t[\"Speaker\"] = t[\"Speaker\"][:-1]\n",
    "                spaker_lName = t[\"Speaker\"].rfind(\" \")\n",
    "                talks += r\"\"\"\n",
    "                \\item [%(speaker)s] %(title)s \\textcolor{mygray}{ | %(time)s}    \n",
    "                \"\"\" % {\n",
    "                    \"speaker\": t[\"Speaker\"][spaker_lName:] + \" \" + t[\"Speaker\"][0] + \".\",\n",
    "                    \"title\": t[\"Abstract\"][\"title\"],\n",
    "                    \"time\": t[\"TalkStart\"][:-3]\n",
    "                }\n",
    "\n",
    "            # check if chair of multiple unis\n",
    "            # if session[\"Chair\"][\"author\"].find(\",\") != -1 and session[\"Chair\"][\"uni\"].find(\",\") != -1:\n",
    "            #     print(session[\"Chair\"][\"author\"].split(\",\"))\n",
    "            #     print(session[\"Chair\"][\"uni\"].split(\",\"))\n",
    "\n",
    "            # creates a string with a 'symposium' tex object \n",
    "            tex = r\"\"\"\n",
    "            \\begin{symposium}\n",
    "            {%(title)s}\n",
    "            {%(chairs)s}\n",
    "            {%(dateplace)s}\n",
    "            {%(uni)s}\n",
    "            %(mantel)s\n",
    "            \\begin{description}    \n",
    "            %(description)s\n",
    "            \\end{description} \n",
    "            \\end{symposium}\n",
    "            \"\"\" % {\n",
    "                \"title\": session[\"Title\"], \n",
    "                \"chairs\": session[\"Chair\"][\"author\"], \n",
    "                \"dateplace\": session[\"DatePlace\"], \n",
    "                \"uni\": session[\"Chair\"][\"uni\"], \n",
    "                \"mantel\": session[\"Mantel\"], \n",
    "                \"description\": talks\n",
    "            }\n",
    "\n",
    "            # saves the session ID to a list\n",
    "            # so that a 'file of the files' can be generated\n",
    "            s_id_list.append(session[\"Index\"])\n",
    "\n",
    "            # saves the symbosium tex object to a file in the according folder\n",
    "            f_path = \"../booklet/tex/days/\" + day_key + \"/symposia/\"+ session_group_key + \"/\" + session[\"Index\"] + \".tex\"\n",
    "            f = open(f_path, \"w\")\n",
    "            f.write(tex)\n",
    "            f.close()\n",
    "        \n",
    "        session_input = \"\"\n",
    "        for id in s_id_list:\n",
    "            session_input += (r\"\\input{tex/days/\" + day_key + \"/symposia/\" + session_group_key + \"/\" + id + \".tex} \")\n",
    "        f = open(\"../booklet/tex/days/\" + day_key + \"/symposia/\"+ session_group_key + \"/\" + session_group_key + \".tex\", \"w\")\n",
    "        f.write(session_input)\n",
    "        f.close()\n",
    "    \n"
   ]
  },
  {
   "cell_type": "markdown",
   "metadata": {},
   "source": [
    "### Print Posters to tex files"
   ]
  },
  {
   "cell_type": "code",
   "execution_count": 59,
   "metadata": {},
   "outputs": [],
   "source": [
    "for day_key, day_value in dict(list(pug24_dict.items())[:2]).items(): \n",
    "    poster_session = \"\"\n",
    "    for topic_key, topic_value in day_value[\"poster\"][\"topics\"].items():\n",
    "        poster_files = []\n",
    "        for _, poster_body in topic_value.items():\n",
    "            poster_tex = r\"\"\"\n",
    "                \\poster{P.%(id)s - %(title)s}\n",
    "                {%(author)s}\n",
    "                {%(uni)s}\n",
    "                \"\"\" % {\n",
    "                    \"id\": poster_body[\"Id\"], \n",
    "                    \"title\": poster_body[\"Title\"].replace(\"&\", r\"\\&\"), \n",
    "                    \"author\": poster_body[\"Submitter_Initials\"], \n",
    "                    \"uni\": poster_body[\"Uni\"].replace(\"&\", r\"\\&\")\n",
    "                }\n",
    "            \n",
    "            file_name = \"P\" + poster_body[\"Id\"] + \".tex\"\n",
    "            poster_files.append(file_name)\n",
    "            f = open(\"../booklet/tex/days/\" + day_key + \"/poster/\" + file_name, \"w\")\n",
    "            f.write(poster_tex)\n",
    "            f.close()\n",
    "        \n",
    "        poster_topic = r\"\"\"\\subsection*{%(sessionTitle)s} \n",
    "        \"\"\" % {\"sessionTitle\": topic_key}\n",
    "        for p_file in poster_files:\n",
    "            poster_topic += r\"\\input{tex/days/\" + day_key + \"/poster/\" + p_file + \"} \"\n",
    "        poster_topic += r\"\"\"\\vspace*{1cm}\n",
    "        \n",
    "        \"\"\"\n",
    "        poster_session += poster_topic\n",
    "    \n",
    "    poster_session_id = \"1\" if day_key == \"Donnerstag\" else \"2\"\n",
    "    f = open(\"../booklet/tex/days/\" + day_key + \"/poster/session\" + poster_session_id + \".tex\", \"w\")\n",
    "    f.write(poster_session)\n",
    "    f.close()"
   ]
  },
  {
   "cell_type": "markdown",
   "metadata": {},
   "source": [
    "### DONE"
   ]
  },
  {
   "cell_type": "code",
   "execution_count": 60,
   "metadata": {},
   "outputs": [
    {
     "name": "stdout",
     "output_type": "stream",
     "text": [
      "Done\n"
     ]
    }
   ],
   "source": [
    "print(\"Done\")"
   ]
  }
 ],
 "metadata": {
  "kernelspec": {
   "display_name": "pug",
   "language": "python",
   "name": "python3"
  },
  "language_info": {
   "codemirror_mode": {
    "name": "ipython",
    "version": 3
   },
   "file_extension": ".py",
   "mimetype": "text/x-python",
   "name": "python",
   "nbconvert_exporter": "python",
   "pygments_lexer": "ipython3",
   "version": "3.12.3"
  }
 },
 "nbformat": 4,
 "nbformat_minor": 2
}
