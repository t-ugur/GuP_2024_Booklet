{
 "cells": [
  {
   "cell_type": "code",
   "execution_count": 1,
   "metadata": {},
   "outputs": [],
   "source": [
    "import pandas as pd\n",
    "import json"
   ]
  },
  {
   "cell_type": "markdown",
   "metadata": {},
   "source": [
    "### Read PUG_Prizes.xlsx sheet"
   ]
  },
  {
   "cell_type": "code",
   "execution_count": 2,
   "metadata": {},
   "outputs": [],
   "source": [
    "# # Read PuG sheet and print information\n",
    "# pug_df = pd.read_excel(\"./excel/PUG_Prizes.xlsx\").astype(str)\n",
    "# pug_df.info()\n",
    "# pug_df[\"Type\"].value_counts()"
   ]
  },
  {
   "cell_type": "markdown",
   "metadata": {},
   "source": [
    "### Read PUG_2024_Programm_Talks.xlsx sheet"
   ]
  },
  {
   "cell_type": "code",
   "execution_count": 3,
   "metadata": {},
   "outputs": [
    {
     "name": "stdout",
     "output_type": "stream",
     "text": [
      "<class 'pandas.core.frame.DataFrame'>\n",
      "RangeIndex: 182 entries, 0 to 181\n",
      "Data columns (total 12 columns):\n",
      " #   Column        Non-Null Count  Dtype \n",
      "---  ------        --------------  ----- \n",
      " 0   Tag           182 non-null    object\n",
      " 1   Session       182 non-null    object\n",
      " 2   SessionStart  182 non-null    object\n",
      " 3   SessionEnd    182 non-null    object\n",
      " 4   TalkStart     182 non-null    object\n",
      " 5   TalkEnd       182 non-null    object\n",
      " 6   Talk          182 non-null    object\n",
      " 7   Speaker       182 non-null    object\n",
      " 8   Chair         182 non-null    object\n",
      " 9   Inhalt        182 non-null    object\n",
      " 10  Uni           182 non-null    object\n",
      " 11  Abstract      182 non-null    object\n",
      "dtypes: object(12)\n",
      "memory usage: 17.2+ KB\n"
     ]
    },
    {
     "data": {
      "text/plain": [
       "Tag\n",
       "Freitag       78\n",
       "Donnerstag    76\n",
       "Samstag       25\n",
       "Mittwoch       3\n",
       "Name: count, dtype: int64"
      ]
     },
     "execution_count": 3,
     "metadata": {},
     "output_type": "execute_result"
    }
   ],
   "source": [
    "# Read program sheet and print information\n",
    "program_df = pd.read_excel(\"./excel/PUG_2024_Programm_Talks_1504_MD_1804.xlsx\").astype(str)\n",
    "program_df.info()\n",
    "program_df[\"Tag\"].value_counts()"
   ]
  },
  {
   "cell_type": "markdown",
   "metadata": {},
   "source": [
    "### Initiate dict for PuG 2024 program"
   ]
  },
  {
   "cell_type": "code",
   "execution_count": 4,
   "metadata": {},
   "outputs": [],
   "source": [
    "pug_days_list = program_df[\"Tag\"].unique()\n",
    "pug24_dict = dict.fromkeys(pug_days_list)\n",
    "for key in pug24_dict.keys():\n",
    "    s_dict = {\"symposia\": {}, \"poster\": {}, \"keynote\": {}}\n",
    "    pug24_dict.update({key: s_dict})"
   ]
  },
  {
   "cell_type": "markdown",
   "metadata": {},
   "source": [
    "### Put Keynotes into program dict"
   ]
  },
  {
   "cell_type": "code",
   "execution_count": 5,
   "metadata": {},
   "outputs": [],
   "source": [
    "keynote = program_df.loc[program_df[\"Session\"].str.startswith(\"Keyn\")]\n",
    "\n",
    "for _, k_row in keynote.iterrows():\n",
    "    pug24_dict[k_row[\"Tag\"]][\"keynote\"] = k_row.to_dict()"
   ]
  },
  {
   "cell_type": "markdown",
   "metadata": {},
   "source": [
    "### Put Posters into program dict"
   ]
  },
  {
   "cell_type": "code",
   "execution_count": 6,
   "metadata": {},
   "outputs": [],
   "source": [
    "poster = program_df.loc[program_df[\"Session\"].str.startswith(\"Post\")]\n",
    "\n",
    "for _, p_row in poster.iterrows():\n",
    "    pug24_dict[p_row[\"Tag\"]][\"poster\"] = p_row.to_dict()\t"
   ]
  },
  {
   "cell_type": "markdown",
   "metadata": {},
   "source": [
    "### Put Symposia into program dict"
   ]
  },
  {
   "cell_type": "code",
   "execution_count": 7,
   "metadata": {},
   "outputs": [],
   "source": [
    "# Read Symposia from Excel sheet and reset index\n",
    "symposia = program_df.loc[program_df[\"Session\"].str.startswith(\"Symp\")]\n",
    "symposia.reset_index(drop=True, inplace=True)\n",
    "symposia_count = 1\n",
    "\n",
    "# Iterate over symposia\n",
    "for s_index, s_row in symposia.iterrows():\n",
    "    s_group_index = \"session\" + s_row[\"Session\"][-3:-2]\n",
    "    s_id = \"session\" + s_row[\"Session\"][-3:]\n",
    "    s_talk = s_row[\"Talk\"]\n",
    "    s_title_index = \"S\" + (str(symposia_count) if symposia_count > 9 else \"0\" + str(symposia_count))\n",
    "    s_title = s_title_index + \" - \" + s_talk\n",
    "    s_date = s_row[\"Tag\"] + \" \" + s_row[\"SessionStart\"][:-3] + \" - \" + s_row[\"SessionEnd\"][:-3]\n",
    "    s_date_place = s_date + \" | Ort TODO\"\n",
    "    s_chairs = {\"author\": s_row[\"Chair\"], \"uni\": s_row[\"Uni\"]}\n",
    "    s_mantel = s_row[\"Inhalt\"].replace(\"&\", r\"\\&\").replace(\"ε\", r\"$\\epsilon$\")\n",
    "    s_mantel_brake = s_mantel.find(\"\\n\\n\")\n",
    "    if s_mantel_brake != -1:\n",
    "        s_mantel = s_mantel[s_mantel_brake+2:]\n",
    "    else:\n",
    "        print(\"No brake found in mantel of symposium\", s_title)\n",
    "\n",
    "    # Add new symposia session if not present\n",
    "    if s_group_index not in pug24_dict[s_row[\"Tag\"]][\"symposia\"].keys():\n",
    "        pug24_dict[s_row[\"Tag\"]][\"symposia\"][s_group_index] = {}\n",
    "    if s_id not in pug24_dict[s_row[\"Tag\"]][\"symposia\"][s_group_index].keys():\n",
    "        pug24_dict[s_row[\"Tag\"]][\"symposia\"][s_group_index][s_id] = {}\n",
    "\n",
    "    # Add Parameters to symposia session, if not present\n",
    "    if \"Index\" not in pug24_dict[s_row[\"Tag\"]][\"symposia\"][s_group_index][s_id]:\n",
    "        symposia_count += 1\n",
    "        pug24_dict[s_row[\"Tag\"]][\"symposia\"][s_group_index][s_id][\"Index\"] = s_title_index\n",
    "        pug24_dict[s_row[\"Tag\"]][\"symposia\"][s_group_index][s_id][\"Talk\"] = s_talk\n",
    "        pug24_dict[s_row[\"Tag\"]][\"symposia\"][s_group_index][s_id][\"Title\"] = s_title\n",
    "        pug24_dict[s_row[\"Tag\"]][\"symposia\"][s_group_index][s_id][\"DatePlace\"] = s_date_place\n",
    "        pug24_dict[s_row[\"Tag\"]][\"symposia\"][s_group_index][s_id][\"Chair\"] = s_chairs\n",
    "        pug24_dict[s_row[\"Tag\"]][\"symposia\"][s_group_index][s_id][\"Mantel\"] = s_mantel\n",
    "        pug24_dict[s_row[\"Tag\"]][\"symposia\"][s_group_index][s_id][\"Talks\"] = {}\n",
    "        \n",
    "    # Add symposium to session\n",
    "    abstract_brake = s_row[\"Abstract\"].find(\"\\n\")+1\n",
    "    s_row[\"Abstract\"] = s_row[\"Abstract\"][abstract_brake:]\n",
    "    abstract_brake = s_row[\"Abstract\"].find(\"\\n\\n\")\n",
    "    abstract_title = s_row[\"Abstract\"][:abstract_brake]\n",
    "    abstract_body = s_row[\"Abstract\"][abstract_brake+2:]\n",
    "    abstract_brake = abstract_body.rfind(\"\\n\\n\")\n",
    "    abstract_body = abstract_body[abstract_brake+2:]\n",
    "    s_row[\"Abstract\"] = {\"title\": abstract_title, \"body\": abstract_body}\n",
    "    pug24_dict[s_row[\"Tag\"]][\"symposia\"][s_group_index][s_id][\"Talks\"][s_index] = s_row.to_dict()"
   ]
  },
  {
   "cell_type": "markdown",
   "metadata": {},
   "source": [
    "### Save PuG 2024 dict into a JSON file"
   ]
  },
  {
   "cell_type": "code",
   "execution_count": 8,
   "metadata": {},
   "outputs": [],
   "source": [
    "# Save the dictionary to a JSON file\n",
    "with open(\"PuG_2024_data.json\", \"w\") as file:\n",
    "    json.dump(pug24_dict, file)"
   ]
  },
  {
   "cell_type": "markdown",
   "metadata": {},
   "source": [
    "### Print symposia to tex files"
   ]
  },
  {
   "cell_type": "code",
   "execution_count": 9,
   "metadata": {},
   "outputs": [],
   "source": [
    "for day_key, day_value in pug24_dict.items():\n",
    "    for session_group_key, session_group in day_value[\"symposia\"].items():\n",
    "        s_id_list = []\n",
    "        for _, session in session_group.items():\n",
    "\n",
    "            # cerates a string of all talk items \n",
    "            talks = \"\"\n",
    "            for _, t in session[\"Talks\"].items():\n",
    "                if t[\"Speaker\"][-1] == \" \": \n",
    "                    t[\"Speaker\"] = t[\"Speaker\"][:-1]\n",
    "                spaker_lName = t[\"Speaker\"].rfind(\" \")\n",
    "                talks += r\"\"\"\n",
    "                \\item [%(speaker)s] %(title)s \\textcolor{mygray}{ | %(time)s}    \n",
    "                \"\"\" % {\n",
    "                    \"speaker\": t[\"Speaker\"][spaker_lName:] + \" \" + t[\"Speaker\"][0] + \".\",\n",
    "                    \"title\": t[\"Abstract\"][\"title\"],\n",
    "                    \"time\": t[\"TalkStart\"][:-3]\n",
    "                }\n",
    "\n",
    "            # check if chair of multiple unis\n",
    "            # if session[\"Chair\"][\"author\"].find(\",\") != -1 and session[\"Chair\"][\"uni\"].find(\",\") != -1:\n",
    "            #     print(session[\"Chair\"][\"author\"].split(\",\"))\n",
    "            #     print(session[\"Chair\"][\"uni\"].split(\",\"))\n",
    "\n",
    "            # creates a string with a 'symposium' tex object \n",
    "            tex = r\"\"\"\n",
    "            \\begin{symposium}\n",
    "            {%(title)s}\n",
    "            {%(chairs)s}\n",
    "            {%(dateplace)s}\n",
    "            {%(uni)s}\n",
    "            %(mantel)s\n",
    "            \\begin{description}    \n",
    "            %(description)s\n",
    "            \\end{description} \n",
    "            \\end{symposium}\n",
    "            \"\"\" % {\n",
    "                \"title\": session[\"Title\"], \n",
    "                \"chairs\": session[\"Chair\"][\"author\"], \n",
    "                \"dateplace\": session[\"DatePlace\"], \n",
    "                \"uni\": session[\"Chair\"][\"uni\"], \n",
    "                \"mantel\": session[\"Mantel\"], \n",
    "                \"description\": talks\n",
    "            }\n",
    "\n",
    "            # saves the session ID to a list\n",
    "            # so that a 'file of the files' can be generated\n",
    "            s_id_list.append(session[\"Index\"])\n",
    "\n",
    "            # saves the symbosium tex object to a file in the according folder\n",
    "            f_path = \"../booklet/tex/days/\" + day_key + \"/symposia/\"+ session_group_key + \"/\" + session[\"Index\"] + \".tex\"\n",
    "            f = open(f_path, \"w\")\n",
    "            f.write(tex)\n",
    "            f.close()\n",
    "        \n",
    "        session_input = \"\"\n",
    "        for id in s_id_list:\n",
    "            session_input += (r\"\\input{tex/days/\" + day_key + \"/symposia/\" + session_group_key + \"/\" + id + \".tex} \")\n",
    "        f = open(\"../booklet/tex/days/\" + day_key + \"/\" + session_group_key + \".tex\", \"w\")\n",
    "        f.write(session_input)\n",
    "        f.close()\n",
    "    \n"
   ]
  }
 ],
 "metadata": {
  "kernelspec": {
   "display_name": "pug",
   "language": "python",
   "name": "python3"
  },
  "language_info": {
   "codemirror_mode": {
    "name": "ipython",
    "version": 3
   },
   "file_extension": ".py",
   "mimetype": "text/x-python",
   "name": "python",
   "nbconvert_exporter": "python",
   "pygments_lexer": "ipython3",
   "version": "3.12.3"
  }
 },
 "nbformat": 4,
 "nbformat_minor": 2
}
