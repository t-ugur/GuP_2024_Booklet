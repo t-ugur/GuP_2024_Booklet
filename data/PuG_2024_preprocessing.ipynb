{
 "cells": [
  {
   "cell_type": "code",
   "execution_count": 25,
   "metadata": {},
   "outputs": [],
   "source": [
    "import pandas as pd\n",
    "import json"
   ]
  },
  {
   "cell_type": "code",
   "execution_count": 26,
   "metadata": {},
   "outputs": [
    {
     "name": "stdout",
     "output_type": "stream",
     "text": [
      "<class 'pandas.core.frame.DataFrame'>\n",
      "RangeIndex: 610 entries, 0 to 609\n",
      "Data columns (total 18 columns):\n",
      " #   Column                   Non-Null Count  Dtype \n",
      "---  ------                   --------------  ----- \n",
      " 0   Id                       610 non-null    object\n",
      " 1   Poster Session           610 non-null    object\n",
      " 2   Type                     610 non-null    object\n",
      " 3   Topic                    610 non-null    object\n",
      " 4   Title                    610 non-null    object\n",
      " 5   Mantelabstract           610 non-null    object\n",
      " 6   Abstract                 610 non-null    object\n",
      " 7   Submitter first name     610 non-null    object\n",
      " 8   Submitter last name      610 non-null    object\n",
      " 9   Submitter (affiliation)  610 non-null    object\n",
      " 10  Submitter (email)        610 non-null    object\n",
      " 11  Gender                   610 non-null    object\n",
      " 12  Young scientist          610 non-null    object\n",
      " 13  IGOR Prize               610 non-null    object\n",
      " 14  Posterblitz              610 non-null    object\n",
      " 15  Blindanstract            610 non-null    object\n",
      " 16  Poster prize             610 non-null    object\n",
      " 17  Notes Sebastian          610 non-null    object\n",
      "dtypes: object(18)\n",
      "memory usage: 85.9+ KB\n"
     ]
    },
    {
     "data": {
      "text/plain": [
       "Type\n",
       "Poster       397\n",
       "Symposium    213\n",
       "Name: count, dtype: int64"
      ]
     },
     "execution_count": 26,
     "metadata": {},
     "output_type": "execute_result"
    }
   ],
   "source": [
    "# Read PuG sheet and print information\n",
    "pug_df = pd.read_excel(\"./PUG_Prizes.xlsx\").astype(str)\n",
    "pug_df.info()\n",
    "pug_df[\"Type\"].value_counts()"
   ]
  },
  {
   "cell_type": "code",
   "execution_count": 27,
   "metadata": {},
   "outputs": [
    {
     "name": "stdout",
     "output_type": "stream",
     "text": [
      "<class 'pandas.core.frame.DataFrame'>\n",
      "RangeIndex: 182 entries, 0 to 181\n",
      "Data columns (total 12 columns):\n",
      " #   Column        Non-Null Count  Dtype \n",
      "---  ------        --------------  ----- \n",
      " 0   Tag           182 non-null    object\n",
      " 1   Session       182 non-null    object\n",
      " 2   SessionStart  182 non-null    object\n",
      " 3   SessionEnd    182 non-null    object\n",
      " 4   TalkStart     182 non-null    object\n",
      " 5   TalkEnd       182 non-null    object\n",
      " 6   Talk          182 non-null    object\n",
      " 7   Speaker       182 non-null    object\n",
      " 8   Chair         182 non-null    object\n",
      " 9   Inhalt        182 non-null    object\n",
      " 10  Uni           182 non-null    object\n",
      " 11  Abstract      182 non-null    object\n",
      "dtypes: object(12)\n",
      "memory usage: 17.2+ KB\n"
     ]
    },
    {
     "data": {
      "text/plain": [
       "Tag\n",
       "Freitag       78\n",
       "Donnerstag    76\n",
       "Samstag       25\n",
       "Mittwoch       3\n",
       "Name: count, dtype: int64"
      ]
     },
     "execution_count": 27,
     "metadata": {},
     "output_type": "execute_result"
    }
   ],
   "source": [
    "# Read program sheet and print information\n",
    "program_df = pd.read_excel(\"./PUG_2024_Programm_Talks_1504_MD_1804.xlsx\").astype(str)\n",
    "program_df.info()\n",
    "program_df[\"Tag\"].value_counts()"
   ]
  },
  {
   "cell_type": "code",
   "execution_count": 28,
   "metadata": {},
   "outputs": [],
   "source": [
    "pug_days_list = program_df[\"Tag\"].unique()\n",
    "pug_days_dict = dict.fromkeys(pug_days_list)\n",
    "for key in pug_days_dict.keys():\n",
    "    s_dict = {\"symposia\": {}, \"poster\": {}, \"keynote\": {}}\n",
    "    pug_days_dict.update({key: s_dict})"
   ]
  },
  {
   "cell_type": "code",
   "execution_count": 29,
   "metadata": {},
   "outputs": [],
   "source": [
    "keynote = program_df.loc[program_df[\"Session\"].str.startswith(\"Keyn\")]\n",
    "\n",
    "for _, k_row in keynote.iterrows():\n",
    "    pug_days_dict[k_row[\"Tag\"]][\"keynote\"] = k_row.to_dict()"
   ]
  },
  {
   "cell_type": "code",
   "execution_count": 30,
   "metadata": {},
   "outputs": [],
   "source": [
    "poster = program_df.loc[program_df[\"Session\"].str.startswith(\"Post\")]\n",
    "\n",
    "for _, p_row in poster.iterrows():\n",
    "    pug_days_dict[p_row[\"Tag\"]][\"poster\"] = p_row.to_dict()\t"
   ]
  },
  {
   "cell_type": "code",
   "execution_count": 31,
   "metadata": {},
   "outputs": [],
   "source": [
    "# Read Symposia from Excel sheet and reset index\n",
    "symposia = program_df.loc[program_df[\"Session\"].str.startswith(\"Symp\")]\n",
    "symposia.reset_index(drop=True, inplace=True)\n",
    "symposia_count = 1\n",
    "\n",
    "# Iterate over symposia\n",
    "for s_index, s_row in symposia.iterrows():\n",
    "    s_id = s_row[\"Session\"]\n",
    "    s_talk = s_row[\"Talk\"]\n",
    "    s_title_index = \"S\" + (str(symposia_count) if symposia_count > 9 else \"0\" + str(symposia_count))\n",
    "    s_title = s_title_index + \" - \" + s_talk\n",
    "    s_date = s_row[\"Tag\"] + \" \" + s_row[\"SessionStart\"][:-3] + \" - \" + s_row[\"SessionEnd\"][:-3]\n",
    "    s_date_place = s_date + \" | Ort TODO\"\n",
    "    s_chairs = \"Session chair(s): \" + s_row[\"Chair\"]\n",
    "    s_mantel = s_row[\"Inhalt\"]\n",
    "\n",
    "    # Add new symposia session if not present\n",
    "    if s_id not in pug_days_dict[s_row[\"Tag\"]][\"symposia\"].keys():\n",
    "        pug_days_dict[s_row[\"Tag\"]][\"symposia\"][s_id] = {}\n",
    "\n",
    "    # Add Parameters to symposia session, if not present\n",
    "    if \"Index\" not in pug_days_dict[s_row[\"Tag\"]][\"symposia\"][s_id]:\n",
    "        symposia_count += 1\n",
    "        pug_days_dict[s_row[\"Tag\"]][\"symposia\"][s_id][\"Index\"] = s_title_index\n",
    "        pug_days_dict[s_row[\"Tag\"]][\"symposia\"][s_id][\"Talk\"] = s_talk\n",
    "        pug_days_dict[s_row[\"Tag\"]][\"symposia\"][s_id][\"Title\"] = s_title\n",
    "        pug_days_dict[s_row[\"Tag\"]][\"symposia\"][s_id][\"DatePlace\"] = s_date_place\n",
    "        pug_days_dict[s_row[\"Tag\"]][\"symposia\"][s_id][\"Chair\"] = s_chairs\n",
    "        pug_days_dict[s_row[\"Tag\"]][\"symposia\"][s_id][\"Mantel\"] = s_mantel\n",
    "        pug_days_dict[s_row[\"Tag\"]][\"symposia\"][s_id][\"Talks\"] = {}\n",
    "        \n",
    "    # Add symposium to session\n",
    "    pug_days_dict[s_row[\"Tag\"]][\"symposia\"][s_id][\"Talks\"][s_index] = s_row.to_dict()"
   ]
  },
  {
   "cell_type": "code",
   "execution_count": 32,
   "metadata": {},
   "outputs": [],
   "source": [
    "# Save the dictionary to a JSON file\n",
    "with open(\"PuG_2024_data.json\", \"w\") as file:\n",
    "    json.dump(pug_days_dict, file)"
   ]
  }
 ],
 "metadata": {
  "kernelspec": {
   "display_name": "pug",
   "language": "python",
   "name": "python3"
  },
  "language_info": {
   "codemirror_mode": {
    "name": "ipython",
    "version": 3
   },
   "file_extension": ".py",
   "mimetype": "text/x-python",
   "name": "python",
   "nbconvert_exporter": "python",
   "pygments_lexer": "ipython3",
   "version": "3.12.3"
  }
 },
 "nbformat": 4,
 "nbformat_minor": 2
}
